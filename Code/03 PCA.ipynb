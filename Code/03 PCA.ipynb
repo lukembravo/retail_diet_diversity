{
 "cells": [
  {
   "cell_type": "code",
   "execution_count": 82,
   "metadata": {},
   "outputs": [],
   "source": [
    "from matplotlib.colors import ListedColormap \n",
    "from sklearn.decomposition import PCA\n",
    "from sklearn.linear_model import LogisticRegression\n",
    "from sklearn.metrics import confusion_matrix \n",
    "from sklearn.model_selection import train_test_split \n",
    "from sklearn.preprocessing import StandardScaler\n",
    "import matplotlib.pyplot as plt \n",
    "import numpy as np \n",
    "import pandas as pd\n",
    "\n",
    "traindf = pd.read_csv('train.csv')\n",
    "testdf = pd.read_csv('test.csv')\n",
    "\n",
    "df=traindf.append(testdf)\n",
    "X = df.iloc[:, 1:].values \n",
    "y = df.iloc[:, 0:1].values \n",
    "\n",
    "X_train, X_test, y_train, y_test = train_test_split(X, y, test_size = 0.2, random_state = 50)\n",
    "\n",
    "y_train=y_train.ravel()\n",
    "\n",
    "sc = StandardScaler() \n",
    "  \n",
    "X_train = sc.fit_transform(X_train) \n",
    "X_test = sc.transform(X_test) "
   ]
  },
  {
   "cell_type": "code",
   "execution_count": 83,
   "metadata": {},
   "outputs": [
    {
     "data": {
      "text/plain": [
       "'pca = PCA(n_components = 4) \\n  \\nX_train = pca.fit_transform(X_train) \\nX_test = pca.transform(X_test) \\n  \\nexplained_variance_n4 = pca.explained_variance_ratio_ \\nexplained_variance_n4\\n\\narray([0.26678048, 0.24284281, 0.06416264, 0.05527739])'"
      ]
     },
     "execution_count": 83,
     "metadata": {},
     "output_type": "execute_result"
    }
   ],
   "source": [
    "'''pca = PCA(n_components = 4) \n",
    "  \n",
    "X_train = pca.fit_transform(X_train) \n",
    "X_test = pca.transform(X_test) \n",
    "  \n",
    "explained_variance_n4 = pca.explained_variance_ratio_ \n",
    "explained_variance_n4\n",
    "\n",
    "array([0.26678048, 0.24284281, 0.06416264, 0.05527739])'''"
   ]
  },
  {
   "cell_type": "code",
   "execution_count": 92,
   "metadata": {},
   "outputs": [
    {
     "data": {
      "text/plain": [
       "array([0.52348564, 0.47651436])"
      ]
     },
     "execution_count": 92,
     "metadata": {},
     "output_type": "execute_result"
    }
   ],
   "source": [
    "pca = PCA(n_components = 2) \n",
    "  \n",
    "X_train = pca.fit_transform(X_train) \n",
    "X_test = pca.transform(X_test) \n",
    "  \n",
    "explained_variance_n2 = pca.explained_variance_ratio_ \n",
    "explained_variance_n2"
   ]
  },
  {
   "cell_type": "code",
   "execution_count": 90,
   "metadata": {},
   "outputs": [
    {
     "name": "stderr",
     "output_type": "stream",
     "text": [
      "'c' argument looks like a single numeric RGB or RGBA sequence, which should be avoided as value-mapping will have precedence in case its length matches with 'x' & 'y'.  Please use a 2-D array with a single row if you really want to specify the same RGB or RGBA value for all points.\n",
      "'c' argument looks like a single numeric RGB or RGBA sequence, which should be avoided as value-mapping will have precedence in case its length matches with 'x' & 'y'.  Please use a 2-D array with a single row if you really want to specify the same RGB or RGBA value for all points.\n",
      "'c' argument looks like a single numeric RGB or RGBA sequence, which should be avoided as value-mapping will have precedence in case its length matches with 'x' & 'y'.  Please use a 2-D array with a single row if you really want to specify the same RGB or RGBA value for all points.\n",
      "'c' argument looks like a single numeric RGB or RGBA sequence, which should be avoided as value-mapping will have precedence in case its length matches with 'x' & 'y'.  Please use a 2-D array with a single row if you really want to specify the same RGB or RGBA value for all points.\n"
     ]
    },
    {
     "data": {
      "image/png": "[encoded data removed]",
      "text/plain": [
       "<Figure size 432x288 with 1 Axes>"
      ]
     },
     "metadata": {
      "needs_background": "light"
     },
     "output_type": "display_data"
    }
   ],
   "source": [
    "classifier = LogisticRegression(random_state = 0) \n",
    "classifier.fit(X_train, y_train) \n",
    "\n",
    "y_pred = classifier.predict(X_test) \n",
    "\n",
    "cm = confusion_matrix(y_test, y_pred)\n",
    "\n",
    "\n",
    "X_set, y_set = X_train, y_train \n",
    "X1, X2 = np.meshgrid(np.arange(start = X_set[:, 0].min() - 1, \n",
    "                     stop = X_set[:, 0].max() + 1, step = 0.01), \n",
    "                     np.arange(start = X_set[:, 1].min() - 1, \n",
    "                     stop = X_set[:, 1].max() + 1, step = 0.01)) \n",
    "  \n",
    "plt.contourf(X1, X2, classifier.predict(np.array([X1.ravel(), \n",
    "             X2.ravel()]).T).reshape(X1.shape), alpha = 0.75, \n",
    "             cmap = ListedColormap(('yellow', 'white', 'aquamarine'))) \n",
    "  \n",
    "plt.xlim(X1.min(), X1.max()) \n",
    "plt.ylim(X2.min(), X2.max()) \n",
    "  \n",
    "for i, j in enumerate(np.unique(y_set)): \n",
    "    plt.scatter(X_set[y_set == j, 0], X_set[y_set == j, 1], \n",
    "                c = ListedColormap(('red', 'green', 'blue'))(i), label = j) \n",
    "  \n",
    "plt.title('Logistic Regression (Training set)') \n",
    "plt.xlabel('PC1') # for Xlabel \n",
    "plt.ylabel('PC2') # for Ylabel \n",
    "plt.legend() # to show legend \n",
    "  \n",
    "# show scatter plot \n",
    "plt.show() "
   ]
  },
  {
   "cell_type": "code",
   "execution_count": 73,
   "metadata": {},
   "outputs": [
    {
     "data": {
      "text/plain": [
       "(560, 34)"
      ]
     },
     "execution_count": 73,
     "metadata": {},
     "output_type": "execute_result"
    }
   ],
   "source": [
    "X.shape"
   ]
  },
  {
   "cell_type": "code",
   "execution_count": 87,
   "metadata": {},
   "outputs": [
    {
     "data": {
      "text/plain": [
       "array([4, 4, 4, 4, 4, 3, 3, 4, 4, 2, 3, 4, 4, 4, 3, 4, 4, 4, 4, 4, 4, 2,\n",
       "       4, 3, 4, 1, 3, 4, 2, 4, 4, 3, 3, 4, 4, 3, 4, 4, 4, 4, 4, 1, 4, 4,\n",
       "       4, 4, 3, 3, 4, 4, 4, 4, 4, 2, 4, 3, 3, 4, 4, 4, 3, 4, 3, 4, 3, 2,\n",
       "       2, 3, 3, 4, 4, 4, 4, 4, 4, 4, 2, 3, 2, 4, 4, 4, 3, 4, 4, 4, 4, 4,\n",
       "       4, 4, 4, 1, 3, 4, 2, 4, 4, 3, 2, 4, 1, 2, 3, 4, 4, 3, 4, 4, 4, 2,\n",
       "       4, 4, 4, 4, 2, 4, 4, 4, 4, 2, 3, 2, 3, 4, 3, 1, 4, 1, 4, 4, 3, 3,\n",
       "       4, 4, 4, 1, 3, 3, 2, 4, 4, 2, 3, 3, 2, 4, 3, 3, 3, 2, 4, 4, 4, 2,\n",
       "       4, 3, 4, 2, 2, 3, 2, 4, 4, 4, 4, 4, 4, 3, 4, 4, 4, 4, 2, 4, 4, 2,\n",
       "       2, 2, 4, 4, 4, 2, 4, 4, 4, 4, 4, 2, 3, 3, 4, 4, 4, 4, 4, 2, 2, 4,\n",
       "       4, 4, 4, 4, 4, 3, 3, 4, 3, 4, 4, 3, 4, 4, 4, 4, 3, 4, 4, 4, 3, 4,\n",
       "       2, 4, 4, 4, 1, 4, 4, 2, 3, 4, 4, 4, 4, 4, 2, 4, 4, 4, 2, 3, 4, 4,\n",
       "       4, 4, 3, 4, 2, 4, 4, 4, 3, 4, 1, 3, 4, 4, 4, 3, 4, 3, 4, 1, 4, 2,\n",
       "       4, 3, 4, 2, 4, 3, 4, 4, 4, 4, 4, 4, 3, 4, 4, 4, 1, 4, 4, 3, 3, 3,\n",
       "       4, 3, 2, 2, 4, 4, 4, 4, 1, 3, 4, 4, 4, 4, 4, 4, 4, 2, 1, 4, 4, 3,\n",
       "       3, 3, 4, 4, 2, 4, 4, 2, 1, 2, 4, 4, 4, 4, 2, 4, 4, 4, 4, 4, 3, 4,\n",
       "       1, 2, 4, 4, 4, 3, 4, 4, 1, 4, 1, 2, 1, 2, 1, 3, 4, 4, 4, 1, 4, 4,\n",
       "       4, 4, 4, 2, 3, 3, 3, 4, 2, 4, 3, 1, 4, 4, 4, 4, 4, 2, 1, 4, 4, 2,\n",
       "       4, 4, 4, 2, 4, 3, 2, 3, 2, 2, 1, 4, 4, 4, 4, 4, 2, 4, 2, 4, 4, 4,\n",
       "       4, 3, 4, 2, 4, 4, 4, 4, 4, 4, 4, 1, 4, 2, 4, 4, 4, 3, 4, 2, 3, 4,\n",
       "       4, 4, 4, 2, 4, 4, 2, 4, 4, 3, 2, 4, 2, 1, 2, 4, 4, 4, 2, 4, 4, 2,\n",
       "       4, 4, 4, 4, 4, 4, 4, 2])"
      ]
     },
     "execution_count": 87,
     "metadata": {},
     "output_type": "execute_result"
    }
   ],
   "source": [
    "y_train"
   ]
  },
  {
   "cell_type": "code",
   "execution_count": 88,
   "metadata": {},
   "outputs": [
    {
     "data": {
      "text/plain": [
       "array([[2],\n",
       "       [3],\n",
       "       [2],\n",
       "       [4],\n",
       "       [4],\n",
       "       [4],\n",
       "       [3],\n",
       "       [4],\n",
       "       [1],\n",
       "       [2],\n",
       "       [4],\n",
       "       [4],\n",
       "       [4],\n",
       "       [2],\n",
       "       [2],\n",
       "       [1],\n",
       "       [3],\n",
       "       [3],\n",
       "       [4],\n",
       "       [2],\n",
       "       [2],\n",
       "       [4],\n",
       "       [4],\n",
       "       [4],\n",
       "       [4],\n",
       "       [4],\n",
       "       [4],\n",
       "       [2],\n",
       "       [2],\n",
       "       [4],\n",
       "       [2],\n",
       "       [4],\n",
       "       [3],\n",
       "       [4],\n",
       "       [4],\n",
       "       [4],\n",
       "       [4],\n",
       "       [3],\n",
       "       [4],\n",
       "       [4],\n",
       "       [2],\n",
       "       [3],\n",
       "       [4],\n",
       "       [4],\n",
       "       [4],\n",
       "       [1],\n",
       "       [3],\n",
       "       [4],\n",
       "       [2],\n",
       "       [4],\n",
       "       [1],\n",
       "       [4],\n",
       "       [3],\n",
       "       [4],\n",
       "       [4],\n",
       "       [2],\n",
       "       [4],\n",
       "       [1],\n",
       "       [4],\n",
       "       [4],\n",
       "       [2],\n",
       "       [2],\n",
       "       [1],\n",
       "       [4],\n",
       "       [4],\n",
       "       [4],\n",
       "       [4],\n",
       "       [4],\n",
       "       [2],\n",
       "       [4],\n",
       "       [4],\n",
       "       [2],\n",
       "       [4],\n",
       "       [2],\n",
       "       [4],\n",
       "       [4],\n",
       "       [4],\n",
       "       [4],\n",
       "       [4],\n",
       "       [4],\n",
       "       [3],\n",
       "       [4],\n",
       "       [2],\n",
       "       [3],\n",
       "       [4],\n",
       "       [4],\n",
       "       [4],\n",
       "       [4],\n",
       "       [2],\n",
       "       [4],\n",
       "       [4],\n",
       "       [4],\n",
       "       [4],\n",
       "       [4],\n",
       "       [4],\n",
       "       [2],\n",
       "       [4],\n",
       "       [1],\n",
       "       [3],\n",
       "       [3],\n",
       "       [4],\n",
       "       [4],\n",
       "       [1],\n",
       "       [4],\n",
       "       [4],\n",
       "       [2],\n",
       "       [2],\n",
       "       [4],\n",
       "       [4],\n",
       "       [3],\n",
       "       [4],\n",
       "       [3]])"
      ]
     },
     "execution_count": 88,
     "metadata": {},
     "output_type": "execute_result"
    }
   ],
   "source": [
    "y_test"
   ]
  },
  {
   "cell_type": "code",
   "execution_count": null,
   "metadata": {},
   "outputs": [],
   "source": []
  }
 ],
 "metadata": {
  "kernelspec": {
   "display_name": "Python 3",
   "language": "python",
   "name": "python3"
  },
  "language_info": {
   "codemirror_mode": {
    "name": "ipython",
    "version": 3
   },
   "file_extension": ".py",
   "mimetype": "text/x-python",
   "name": "python",
   "nbconvert_exporter": "python",
   "pygments_lexer": "ipython3",
   "version": "3.7.6"
  }
 },
 "nbformat": 4,
 "nbformat_minor": 4
}
