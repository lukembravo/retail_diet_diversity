{
 "cells": [
  {
   "cell_type": "code",
   "execution_count": null,
   "metadata": {},
   "outputs": [],
   "source": [
    "from sklearn.feature_selection import RFE\n",
    "from sklearn.linear_model import LinearRegression, LogisticRegression\n",
    "from sklearn.metrics import accuracy_score, confusion_matrix, mean_squared_error, r2_score\n",
    "from sklearn.model_selection import train_test_split, KFold\n",
    "from sklearn.neural_network import MLPRegressor\n",
    "from sklearn.preprocessing import StandardScaler\n",
    "import matplotlib.pyplot as plt\n",
    "import numpy as np\n",
    "import pandas as pd\n",
    "import seaborn as sns"
   ]
  },
  {
   "cell_type": "code",
   "execution_count": null,
   "metadata": {},
   "outputs": [],
   "source": [
    "'''rawdf = pd.read_csv\n",
    "df = pd.read_csv('rd4dd_census_clean.csv')'''\n",
    "\n",
    "trainset = pd.read_csv('train.csv')\n",
    "testset = pd.read_csv('test.csv')\n",
    "\n",
    "X_train = trainset.drop(['OP_time'], axis=1)\n",
    "X_test = testset.drop(['OP_time'], axis=1)\n",
    "y_train = trainset['OP_time'].values\n",
    "y_test = testset['OP_time'].values"
   ]
  },
  {
   "cell_type": "code",
   "execution_count": null,
   "metadata": {},
   "outputs": [],
   "source": [
    "#pretty correlation matrix\n",
    "\n",
    "df = trainset.append(testset)\n",
    "coordf = df.copy().corr()\n",
    "coordf\n",
    "\n",
    "mask = np.triu(np.ones_like(coordf, dtype=bool))\n",
    "f, ax = plt.subplots(figsize=(20, 20))\n",
    "cmap = sns.diverging_palette(0, 500, as_cmap=True)\n",
    "sns.heatmap(coordf, annot=True, mask=mask, cmap=cmap, vmax=.3, \n",
    "            square=True, linewidths=.5, cbar_kws={\"shrink\": .5})\n",
    "plt.title('Pretty Correlation Matrix')\n",
    "plt.show()"
   ]
  },
  {
   "cell_type": "code",
   "execution_count": null,
   "metadata": {},
   "outputs": [],
   "source": [
    "top5pos=coordf['OP_time'].sort_values()[:5].to_frame().rename(columns={\"OP_time\":\"Positive Correlations with OP_time\"})\n",
    "top5neg=coordf['OP_time'].sort_values()[-6:-1].to_frame().rename(columns={\"OP_time\":\"Negative Correlations with OP_time\"})\n",
    "display(top5pos,top5neg)"
   ]
  },
  {
   "cell_type": "markdown",
   "metadata": {},
   "source": [
    "# Testing Models"
   ]
  },
  {
   "cell_type": "markdown",
   "metadata": {},
   "source": [
    "### MLP Regression Using Top Five Positive Correlations"
   ]
  },
  {
   "cell_type": "code",
   "execution_count": null,
   "metadata": {},
   "outputs": [],
   "source": [
    "X_train1 = X_train[['Shop_type_3', 'OUT_CER', 'OTHERF', 'VITAMINF', 'VITAMINRT']]\n",
    "X_test1 = X_test[['Shop_type_3', 'OUT_CER', 'OTHERF', 'VITAMINF', 'VITAMINRT']]\n",
    "MLPRTop5p = MLPRegressor(max_iter = 1000,random_state=1).fit(X_train1, y_train)\n",
    "MLPRTop5p_pred = MLPRTop5p.predict(X_test1)\n",
    "MLPRTop5p_r2_score=r2_score(y_test, MLPRTop5p_pred)\n",
    "\n",
    "print('R^2 score against test: %.4f'% MLPRTop5p_r2_score)\n",
    "coordf2=coordf.rename(columns={\"OP_time\":\"Correlation with OP_Time\"})\n",
    "coordf2['Correlation with OP_Time'].sort_values(ascending=False)[1:6].to_frame()"
   ]
  },
  {
   "cell_type": "markdown",
   "metadata": {},
   "source": [
    "### MLP Regression Using Top Five Negative Correlations"
   ]
  },
  {
   "cell_type": "code",
   "execution_count": null,
   "metadata": {},
   "outputs": [],
   "source": [
    "X_train2 = X_train[['SAB', 'CERE', 'OILF', 'Shop_type_7', 'Shop_type_4']]\n",
    "X_test2 = X_test[['SAB', 'CERE', 'OILF', 'Shop_type_7', 'Shop_type_4']]\n",
    "MLPRTop5n = MLPRegressor(max_iter = 1000,random_state=1).fit(X_train2, y_train)\n",
    "MLPRTop5n_pred = MLPRTop5n.predict(X_test2)\n",
    "MLPRTop5n_r2_score=r2_score(y_test, MLPRTop5n_pred)\n",
    "\n",
    "print('R^2 score against test: %.4f'% MLPRTop5n_r2_score)\n",
    "coordf2=coordf.rename(columns={\"OP_time\":\"Correlation with OP_Time\"})\n",
    "coordf2['Correlation with OP_Time'].sort_values()[1:6].to_frame()"
   ]
  },
  {
   "cell_type": "markdown",
   "metadata": {},
   "source": [
    "### MLP Regression Using Five Features from RFE"
   ]
  },
  {
   "cell_type": "code",
   "execution_count": null,
   "metadata": {},
   "outputs": [],
   "source": [
    "estimator = LogisticRegression(max_iter=10000)\n",
    "selector = RFE(estimator, n_features_to_select=5, step=1)\n",
    "selector = selector.fit(X_train, y_train)\n",
    "features = list(X_train.columns)\n",
    "selection = pd.Series(selector.support_,index = features)\n",
    "selection = selection[selection==True].index.to_list()\n",
    "#pd.DataFrame(selection, columns=['Features']).style.hide_ind\n",
    "\n",
    "X_train3 = X_train[selection]\n",
    "X_test3 = X_test[selection]\n",
    "MLPR5 = MLPRegressor(max_iter = 10000,random_state=1).fit(X_train3, y_train)\n",
    "MLPR5_pred = MLPR5.predict(X_test3)\n",
    "MLPR5_r2_score = r2_score(y_test, MLPR5_pred)\n",
    "\n",
    "print('R^2 score against test: %.4f'% MLPR5_r2_score)\n",
    "print('Features used:',' '.join(selection))"
   ]
  },
  {
   "cell_type": "markdown",
   "metadata": {},
   "source": [
    "### MLP Regression Using Ten Features from RFE\n"
   ]
  },
  {
   "cell_type": "code",
   "execution_count": null,
   "metadata": {},
   "outputs": [],
   "source": [
    "estimator = LogisticRegression(max_iter=10000)\n",
    "selector = RFE(estimator, n_features_to_select=10, step=1)\n",
    "selector = selector.fit(X_train, y_train)\n",
    "features = list(X_train.columns)\n",
    "selection = pd.Series(selector.support_,index = features)\n",
    "selection = selection[selection==True].index.to_list()\n",
    "\n",
    "X_train4 = X_train[selection]\n",
    "X_test4 = X_test[selection]\n",
    "MLPR10 = MLPRegressor(max_iter = 10000,random_state=1).fit(X_train4, y_train)\n",
    "MLPR10_pred = MLPR10.predict(X_test4)\n",
    "MLPR10_r2_score = r2_score(y_test, MLPR10_pred)\n",
    "\n",
    "print('R^2 score against test: %.4f'% MLPR10_r2_score)\n",
    "print('Features used:',' '.join(selection))"
   ]
  },
  {
   "cell_type": "markdown",
   "metadata": {},
   "source": [
    "### MLP Regression Using Fifteen Features from RFE"
   ]
  },
  {
   "cell_type": "code",
   "execution_count": null,
   "metadata": {},
   "outputs": [],
   "source": [
    "estimator = LogisticRegression(max_iter=10000)\n",
    "selector = RFE(estimator, n_features_to_select=15, step=1)\n",
    "selector = selector.fit(X_train, y_train)\n",
    "features = list(X_train.columns)\n",
    "selection = pd.Series(selector.support_,index = features)\n",
    "selection = selection[selection==True].index.to_list()\n",
    "\n",
    "X_train5 = X_train[selection]\n",
    "X_test5 = X_test[selection]\n",
    "MLPR15 = MLPRegressor(max_iter = 10000,random_state=1).fit(X_train5, y_train)\n",
    "MLPR15_pred = MLPR15.predict(X_test5)\n",
    "MLPR15_r2_score = r2_score(y_test, MLPR15_pred)\n",
    "\n",
    "print('R^2 score against test: %.4f'% MLPR15_r2_score)\n",
    "print('Features used:',' '.join(selection))"
   ]
  },
  {
   "cell_type": "markdown",
   "metadata": {},
   "source": [
    "### MLP Regression Using Twenty Features from RFE"
   ]
  },
  {
   "cell_type": "code",
   "execution_count": null,
   "metadata": {},
   "outputs": [],
   "source": [
    "estimator = LogisticRegression(max_iter=10000)\n",
    "selector = RFE(estimator, n_features_to_select=20, step=1)\n",
    "selector = selector.fit(X_train, y_train)\n",
    "features = list(X_train.columns)\n",
    "selection = pd.Series(selector.support_,index = features)\n",
    "selection = selection[selection==True].index.to_list()\n",
    "\n",
    "X_train6 = X_train[selection]\n",
    "X_test6 = X_test[selection]\n",
    "MLPR20 = MLPRegressor(max_iter = 10000,random_state=1).fit(X_train6, y_train)\n",
    "MLPR20_pred = MLPR20.predict(X_test6)\n",
    "MLPR20_r2_score = r2_score(y_test, MLPR20_pred)\n",
    "\n",
    "print('R^2 score against test: %.4f'% MLPR20_r2_score)\n",
    "print('Features used:',' '.join(selection))"
   ]
  },
  {
   "cell_type": "markdown",
   "metadata": {},
   "source": [
    "# Summarize Model Results"
   ]
  },
  {
   "cell_type": "code",
   "execution_count": null,
   "metadata": {},
   "outputs": [],
   "source": [
    "plt.figure(figsize=(10,5))\n",
    "\n",
    "plt.plot(np.sqrt(MLPRTop5p.loss_curve_),label='Top 5 Positive Correlations')\n",
    "plt.plot(np.sqrt(MLPRTop5n.loss_curve_),label='Top 5 Negative Correlations')\n",
    "plt.plot(np.sqrt(MLPR5.loss_curve_),label='5 RFE Features')\n",
    "plt.plot(np.sqrt(MLPR10.loss_curve_),label='10 RFE Features')\n",
    "plt.plot(np.sqrt(MLPR15.loss_curve_),label='15 RFE Features')\n",
    "plt.plot(np.sqrt(MLPR20.loss_curve_),label='20 RFE Features')\n",
    "\n",
    "plt.title('MLPR Loss Curves$^{1/2}$ Against Feature Selection Method')\n",
    "plt.xlabel('Epoch Number')\n",
    "plt.ylabel('Loss Curve$^{1/2}$')\n",
    "plt.legend(loc='best')\n",
    "plt.show()\n",
    "\n",
    "MLPRTop5p_train_pred = MLPRTop5p.predict(X_train1)\n",
    "MLPRTop5n_train_pred = MLPRTop5n.predict(X_train2)\n",
    "MLPR5_train_pred = MLPR5.predict(X_train3)\n",
    "MLPR10_train_pred = MLPR10.predict(X_train4)\n",
    "MLPR15_train_pred = MLPR15.predict(X_train5)\n",
    "MLPR20_train_pred = MLPR20.predict(X_train6)\n",
    "\n",
    "MLPRTop5p_test_pred = MLPRTop5p.predict(X_test1)\n",
    "MLPRTop5n_test_pred = MLPRTop5n.predict(X_test2)\n",
    "MLPR5_test_pred = MLPR5.predict(X_test3)\n",
    "MLPR10_test_pred = MLPR10.predict(X_test4)\n",
    "MLPR15_test_pred = MLPR15.predict(X_test5)\n",
    "MLPR20_test_pred = MLPR20.predict(X_test6)\n",
    "\n",
    "summarydata = [['5 Top Positive Correlations',mean_squared_error(y_train, MLPRTop5p_train_pred),\n",
    "             mean_squared_error(y_test, MLPRTop5p_test_pred),MLPRTop5p_r2_score],\n",
    "            ['5 Top Negative Correlations',mean_squared_error(y_train, MLPRTop5n_train_pred),\n",
    "             mean_squared_error(y_test, MLPRTop5n_test_pred),MLPRTop5n_r2_score],\n",
    "            ['5 RFE Features',mean_squared_error(y_train, MLPR5_train_pred),\n",
    "             mean_squared_error(y_test, MLPR5_test_pred),MLPR5_r2_score],\n",
    "            ['10 RFE Features',mean_squared_error(y_train, MLPR10_train_pred),\n",
    "             mean_squared_error(y_test, MLPR10_test_pred),MLPR10_r2_score],\n",
    "            ['15 RFE Features',mean_squared_error(y_train, MLPR15_train_pred),\n",
    "             mean_squared_error(y_test, MLPR15_test_pred),MLPR15_r2_score],\n",
    "            ['20 RFE Features',mean_squared_error(y_train, MLPR20_train_pred),\n",
    "             mean_squared_error(y_test, MLPR20_test_pred),MLPR20_r2_score]]\n",
    "\n",
    "df=pd.DataFrame(summarydata, columns=['Feature Selection','MSE on Training Set','MSE on Test Set','R$^2$ Score'])#.style.hide_index()\n",
    "#df.style.apply(custom_style, axis=1)\n",
    "color = (df['Feature Selection'] == '5 RFE Features').map({True: 'background-color: yellow', False: ''})\n",
    "df.style.apply(lambda s: color).hide_index()"
   ]
  },
  {
   "cell_type": "markdown",
   "metadata": {},
   "source": [
    "### Huh? Matrix"
   ]
  },
  {
   "cell_type": "code",
   "execution_count": null,
   "metadata": {},
   "outputs": [],
   "source": [
    "display(confusion_matrix(y_test,MLPR5_pred.round()))\n",
    "print('Accuracy score against test: %.2f'%float(100*accuracy_score(y_test,MLPR5_pred.round())),'%')"
   ]
  }
 ],
 "metadata": {
  "kernelspec": {
   "display_name": "Python 3",
   "language": "python",
   "name": "python3"
  },
  "language_info": {
   "codemirror_mode": {
    "name": "ipython",
    "version": 3
   },
   "file_extension": ".py",
   "mimetype": "text/x-python",
   "name": "python",
   "nbconvert_exporter": "python",
   "pygments_lexer": "ipython3",
   "version": "3.7.6"
  }
 },
 "nbformat": 4,
 "nbformat_minor": 4
}
